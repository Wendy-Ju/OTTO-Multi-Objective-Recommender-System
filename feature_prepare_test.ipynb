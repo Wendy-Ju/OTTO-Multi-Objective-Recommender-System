{
 "cells": [
  {
   "cell_type": "code",
   "execution_count": 3,
   "metadata": {},
   "outputs": [],
   "source": [
    "import pandas as pd"
   ]
  },
  {
   "cell_type": "code",
   "execution_count": 4,
   "metadata": {},
   "outputs": [],
   "source": [
    "from glob import glob\n",
    "parquetlist = glob('../input/otto-chunk-data-inparquet-format/test_parquet/*.parquet')"
   ]
  },
  {
   "cell_type": "code",
   "execution_count": 5,
   "metadata": {},
   "outputs": [
    {
     "data": {
      "text/plain": [
       "['../input/otto-chunk-data-inparquet-format/test_parquet/000500000_000600000.parquet',\n",
       " '../input/otto-chunk-data-inparquet-format/test_parquet/000200000_000300000.parquet',\n",
       " '../input/otto-chunk-data-inparquet-format/test_parquet/000100000_000200000.parquet',\n",
       " '../input/otto-chunk-data-inparquet-format/test_parquet/001500000_001600000.parquet',\n",
       " '../input/otto-chunk-data-inparquet-format/test_parquet/000400000_000500000.parquet',\n",
       " '../input/otto-chunk-data-inparquet-format/test_parquet/000800000_000900000.parquet',\n",
       " '../input/otto-chunk-data-inparquet-format/test_parquet/001200000_001300000.parquet',\n",
       " '../input/otto-chunk-data-inparquet-format/test_parquet/001300000_001400000.parquet',\n",
       " '../input/otto-chunk-data-inparquet-format/test_parquet/000900000_001000000.parquet',\n",
       " '../input/otto-chunk-data-inparquet-format/test_parquet/001000000_001100000.parquet',\n",
       " '../input/otto-chunk-data-inparquet-format/test_parquet/001600000_001700000.parquet',\n",
       " '../input/otto-chunk-data-inparquet-format/test_parquet/000000000_000100000.parquet',\n",
       " '../input/otto-chunk-data-inparquet-format/test_parquet/000300000_000400000.parquet',\n",
       " '../input/otto-chunk-data-inparquet-format/test_parquet/000700000_000800000.parquet',\n",
       " '../input/otto-chunk-data-inparquet-format/test_parquet/001400000_001500000.parquet',\n",
       " '../input/otto-chunk-data-inparquet-format/test_parquet/001100000_001200000.parquet',\n",
       " '../input/otto-chunk-data-inparquet-format/test_parquet/000600000_000700000.parquet']"
      ]
     },
     "execution_count": 5,
     "metadata": {},
     "output_type": "execute_result"
    }
   ],
   "source": [
    "parquetlist"
   ]
  },
  {
   "cell_type": "code",
   "execution_count": 6,
   "metadata": {},
   "outputs": [
    {
     "name": "stderr",
     "output_type": "stream",
     "text": [
      "100%|██████████| 17/17 [00:00<00:00, 22.06it/s]\n"
     ]
    }
   ],
   "source": [
    "from tqdm import tqdm\n",
    "dataall = []\n",
    "for xx in tqdm(range(len(parquetlist))):\n",
    "    data = pd.read_parquet(parquetlist[xx])\n",
    "    dataall.append(data)\n",
    "    \n",
    "dataall = pd.concat(dataall).reset_index(drop=True)"
   ]
  },
  {
   "cell_type": "code",
   "execution_count": 7,
   "metadata": {},
   "outputs": [
    {
     "data": {
      "text/html": [
       "<div>\n",
       "<style scoped>\n",
       "    .dataframe tbody tr th:only-of-type {\n",
       "        vertical-align: middle;\n",
       "    }\n",
       "\n",
       "    .dataframe tbody tr th {\n",
       "        vertical-align: top;\n",
       "    }\n",
       "\n",
       "    .dataframe thead th {\n",
       "        text-align: right;\n",
       "    }\n",
       "</style>\n",
       "<table border=\"1\" class=\"dataframe\">\n",
       "  <thead>\n",
       "    <tr style=\"text-align: right;\">\n",
       "      <th></th>\n",
       "      <th>session</th>\n",
       "      <th>aid</th>\n",
       "      <th>ts</th>\n",
       "      <th>type</th>\n",
       "    </tr>\n",
       "  </thead>\n",
       "  <tbody>\n",
       "    <tr>\n",
       "      <th>0</th>\n",
       "      <td>13399779</td>\n",
       "      <td>110716</td>\n",
       "      <td>1661885147895</td>\n",
       "      <td>clicks</td>\n",
       "    </tr>\n",
       "    <tr>\n",
       "      <th>1</th>\n",
       "      <td>13399779</td>\n",
       "      <td>738837</td>\n",
       "      <td>1661885164597</td>\n",
       "      <td>clicks</td>\n",
       "    </tr>\n",
       "    <tr>\n",
       "      <th>2</th>\n",
       "      <td>13399780</td>\n",
       "      <td>557072</td>\n",
       "      <td>1661885147958</td>\n",
       "      <td>clicks</td>\n",
       "    </tr>\n",
       "    <tr>\n",
       "      <th>3</th>\n",
       "      <td>13399780</td>\n",
       "      <td>770350</td>\n",
       "      <td>1661885172583</td>\n",
       "      <td>clicks</td>\n",
       "    </tr>\n",
       "    <tr>\n",
       "      <th>4</th>\n",
       "      <td>13399781</td>\n",
       "      <td>1062698</td>\n",
       "      <td>1661885147979</td>\n",
       "      <td>clicks</td>\n",
       "    </tr>\n",
       "    <tr>\n",
       "      <th>...</th>\n",
       "      <td>...</td>\n",
       "      <td>...</td>\n",
       "      <td>...</td>\n",
       "      <td>...</td>\n",
       "    </tr>\n",
       "    <tr>\n",
       "      <th>6928118</th>\n",
       "      <td>13599775</td>\n",
       "      <td>232605</td>\n",
       "      <td>1661959824002</td>\n",
       "      <td>clicks</td>\n",
       "    </tr>\n",
       "    <tr>\n",
       "      <th>6928119</th>\n",
       "      <td>13599776</td>\n",
       "      <td>812507</td>\n",
       "      <td>1661958067254</td>\n",
       "      <td>clicks</td>\n",
       "    </tr>\n",
       "    <tr>\n",
       "      <th>6928120</th>\n",
       "      <td>13599776</td>\n",
       "      <td>587309</td>\n",
       "      <td>1661958145310</td>\n",
       "      <td>clicks</td>\n",
       "    </tr>\n",
       "    <tr>\n",
       "      <th>6928121</th>\n",
       "      <td>13599777</td>\n",
       "      <td>1583223</td>\n",
       "      <td>1661958067311</td>\n",
       "      <td>clicks</td>\n",
       "    </tr>\n",
       "    <tr>\n",
       "      <th>6928122</th>\n",
       "      <td>13599778</td>\n",
       "      <td>887053</td>\n",
       "      <td>1661958067458</td>\n",
       "      <td>clicks</td>\n",
       "    </tr>\n",
       "  </tbody>\n",
       "</table>\n",
       "<p>6928123 rows × 4 columns</p>\n",
       "</div>"
      ],
      "text/plain": [
       "          session      aid             ts    type\n",
       "0        13399779   110716  1661885147895  clicks\n",
       "1        13399779   738837  1661885164597  clicks\n",
       "2        13399780   557072  1661885147958  clicks\n",
       "3        13399780   770350  1661885172583  clicks\n",
       "4        13399781  1062698  1661885147979  clicks\n",
       "...           ...      ...            ...     ...\n",
       "6928118  13599775   232605  1661959824002  clicks\n",
       "6928119  13599776   812507  1661958067254  clicks\n",
       "6928120  13599776   587309  1661958145310  clicks\n",
       "6928121  13599777  1583223  1661958067311  clicks\n",
       "6928122  13599778   887053  1661958067458  clicks\n",
       "\n",
       "[6928123 rows x 4 columns]"
      ]
     },
     "execution_count": 7,
     "metadata": {},
     "output_type": "execute_result"
    }
   ],
   "source": [
    "dataall"
   ]
  },
  {
   "cell_type": "code",
   "execution_count": 8,
   "metadata": {},
   "outputs": [],
   "source": [
    "parquetlist = glob('../input/otto-chunk-data-inparquet-format/train_parquet/*.parquet')"
   ]
  },
  {
   "cell_type": "code",
   "execution_count": 9,
   "metadata": {},
   "outputs": [
    {
     "name": "stderr",
     "output_type": "stream",
     "text": [
      "100%|██████████| 129/129 [00:21<00:00,  6.04it/s]\n"
     ]
    }
   ],
   "source": [
    "from tqdm import tqdm\n",
    "traindataall = []\n",
    "for xx in tqdm(range(len(parquetlist))):\n",
    "    data = pd.read_parquet(parquetlist[xx])\n",
    "    traindataall.append(data)\n",
    "    \n",
    "traindataall = pd.concat(traindataall).reset_index(drop=True)"
   ]
  },
  {
   "cell_type": "code",
   "execution_count": 10,
   "metadata": {},
   "outputs": [
    {
     "data": {
      "text/html": [
       "<div>\n",
       "<style scoped>\n",
       "    .dataframe tbody tr th:only-of-type {\n",
       "        vertical-align: middle;\n",
       "    }\n",
       "\n",
       "    .dataframe tbody tr th {\n",
       "        vertical-align: top;\n",
       "    }\n",
       "\n",
       "    .dataframe thead th {\n",
       "        text-align: right;\n",
       "    }\n",
       "</style>\n",
       "<table border=\"1\" class=\"dataframe\">\n",
       "  <thead>\n",
       "    <tr style=\"text-align: right;\">\n",
       "      <th></th>\n",
       "      <th>session</th>\n",
       "      <th>aid</th>\n",
       "      <th>ts</th>\n",
       "      <th>type</th>\n",
       "    </tr>\n",
       "  </thead>\n",
       "  <tbody>\n",
       "    <tr>\n",
       "      <th>0</th>\n",
       "      <td>7600000</td>\n",
       "      <td>45494</td>\n",
       "      <td>1660352198353</td>\n",
       "      <td>clicks</td>\n",
       "    </tr>\n",
       "    <tr>\n",
       "      <th>1</th>\n",
       "      <td>7600000</td>\n",
       "      <td>214334</td>\n",
       "      <td>1660352290058</td>\n",
       "      <td>clicks</td>\n",
       "    </tr>\n",
       "    <tr>\n",
       "      <th>2</th>\n",
       "      <td>7600000</td>\n",
       "      <td>269405</td>\n",
       "      <td>1660352332852</td>\n",
       "      <td>clicks</td>\n",
       "    </tr>\n",
       "    <tr>\n",
       "      <th>3</th>\n",
       "      <td>7600000</td>\n",
       "      <td>269405</td>\n",
       "      <td>1660352380296</td>\n",
       "      <td>clicks</td>\n",
       "    </tr>\n",
       "    <tr>\n",
       "      <th>4</th>\n",
       "      <td>7600000</td>\n",
       "      <td>269405</td>\n",
       "      <td>1660469933882</td>\n",
       "      <td>clicks</td>\n",
       "    </tr>\n",
       "    <tr>\n",
       "      <th>...</th>\n",
       "      <td>...</td>\n",
       "      <td>...</td>\n",
       "      <td>...</td>\n",
       "      <td>...</td>\n",
       "    </tr>\n",
       "    <tr>\n",
       "      <th>216716091</th>\n",
       "      <td>12699998</td>\n",
       "      <td>812200</td>\n",
       "      <td>1661681939298</td>\n",
       "      <td>clicks</td>\n",
       "    </tr>\n",
       "    <tr>\n",
       "      <th>216716092</th>\n",
       "      <td>12699999</td>\n",
       "      <td>756588</td>\n",
       "      <td>1661681845934</td>\n",
       "      <td>clicks</td>\n",
       "    </tr>\n",
       "    <tr>\n",
       "      <th>216716093</th>\n",
       "      <td>12699999</td>\n",
       "      <td>1474940</td>\n",
       "      <td>1661681937448</td>\n",
       "      <td>clicks</td>\n",
       "    </tr>\n",
       "    <tr>\n",
       "      <th>216716094</th>\n",
       "      <td>12699999</td>\n",
       "      <td>490171</td>\n",
       "      <td>1661682033374</td>\n",
       "      <td>clicks</td>\n",
       "    </tr>\n",
       "    <tr>\n",
       "      <th>216716095</th>\n",
       "      <td>12699999</td>\n",
       "      <td>832192</td>\n",
       "      <td>1661682251191</td>\n",
       "      <td>clicks</td>\n",
       "    </tr>\n",
       "  </tbody>\n",
       "</table>\n",
       "<p>216716096 rows × 4 columns</p>\n",
       "</div>"
      ],
      "text/plain": [
       "            session      aid             ts    type\n",
       "0           7600000    45494  1660352198353  clicks\n",
       "1           7600000   214334  1660352290058  clicks\n",
       "2           7600000   269405  1660352332852  clicks\n",
       "3           7600000   269405  1660352380296  clicks\n",
       "4           7600000   269405  1660469933882  clicks\n",
       "...             ...      ...            ...     ...\n",
       "216716091  12699998   812200  1661681939298  clicks\n",
       "216716092  12699999   756588  1661681845934  clicks\n",
       "216716093  12699999  1474940  1661681937448  clicks\n",
       "216716094  12699999   490171  1661682033374  clicks\n",
       "216716095  12699999   832192  1661682251191  clicks\n",
       "\n",
       "[216716096 rows x 4 columns]"
      ]
     },
     "execution_count": 10,
     "metadata": {},
     "output_type": "execute_result"
    }
   ],
   "source": [
    "traindataall"
   ]
  },
  {
   "cell_type": "code",
   "execution_count": 11,
   "metadata": {},
   "outputs": [],
   "source": [
    "# traindataall[traindataall.session==11098534].sort_values(by='ts')"
   ]
  },
  {
   "cell_type": "code",
   "execution_count": 22,
   "metadata": {},
   "outputs": [
    {
     "data": {
      "text/plain": [
       "datetime.datetime(2022, 8, 28, 22, 0, 0, 278000)"
      ]
     },
     "execution_count": 22,
     "metadata": {},
     "output_type": "execute_result"
    }
   ],
   "source": [
    "import time\n",
    "from datetime import datetime\n",
    "time_local = datetime.fromtimestamp(dataall.ts.min()/1000)\n",
    "time_local"
   ]
  },
  {
   "cell_type": "code",
   "execution_count": 23,
   "metadata": {},
   "outputs": [
    {
     "data": {
      "text/plain": [
       "datetime.datetime(2022, 9, 4, 21, 59, 51, 563000)"
      ]
     },
     "execution_count": 23,
     "metadata": {},
     "output_type": "execute_result"
    }
   ],
   "source": [
    "import time\n",
    "from datetime import datetime\n",
    "time_local = datetime.fromtimestamp(dataall.ts.max()/1000)\n",
    "time_local"
   ]
  },
  {
   "cell_type": "code",
   "execution_count": 24,
   "metadata": {},
   "outputs": [
    {
     "data": {
      "text/plain": [
       "datetime.datetime(2022, 7, 31, 22, 0, 0, 25000)"
      ]
     },
     "execution_count": 24,
     "metadata": {},
     "output_type": "execute_result"
    }
   ],
   "source": [
    "import time\n",
    "from datetime import datetime\n",
    "time_local = datetime.fromtimestamp(traindataall.ts.min()/1000)\n",
    "time_local"
   ]
  },
  {
   "cell_type": "code",
   "execution_count": 25,
   "metadata": {},
   "outputs": [
    {
     "data": {
      "text/plain": [
       "datetime.datetime(2022, 8, 28, 21, 59, 59, 984000)"
      ]
     },
     "execution_count": 25,
     "metadata": {},
     "output_type": "execute_result"
    }
   ],
   "source": [
    "import time\n",
    "from datetime import datetime\n",
    "time_local = datetime.fromtimestamp(traindataall.ts.max()/1000)\n",
    "time_local"
   ]
  },
  {
   "cell_type": "code",
   "execution_count": 26,
   "metadata": {},
   "outputs": [
    {
     "data": {
      "text/plain": [
       "'6 days, 23:59:51.285000'"
      ]
     },
     "execution_count": 26,
     "metadata": {},
     "output_type": "execute_result"
    }
   ],
   "source": [
    "from datetime import timedelta\n",
    "time_elapsed = dataall['ts'].max()-dataall.ts.min()\n",
    "str(timedelta(milliseconds=float(time_elapsed)))"
   ]
  },
  {
   "cell_type": "code",
   "execution_count": 27,
   "metadata": {},
   "outputs": [
    {
     "data": {
      "text/plain": [
       "'27 days, 23:59:59.959000'"
      ]
     },
     "execution_count": 27,
     "metadata": {},
     "output_type": "execute_result"
    }
   ],
   "source": [
    "from datetime import timedelta\n",
    "time_elapsed = traindataall['ts'].max()-traindataall.ts.min()\n",
    "str(timedelta(milliseconds=float(time_elapsed)))"
   ]
  },
  {
   "cell_type": "code",
   "execution_count": 18,
   "metadata": {},
   "outputs": [
    {
     "data": {
      "text/plain": [
       "604791285"
      ]
     },
     "execution_count": 18,
     "metadata": {},
     "output_type": "execute_result"
    }
   ],
   "source": [
    "time_elapsed"
   ]
  },
  {
   "cell_type": "code",
   "execution_count": 15,
   "metadata": {},
   "outputs": [
    {
     "data": {
      "text/plain": [
       "1661724000278"
      ]
     },
     "execution_count": 15,
     "metadata": {},
     "output_type": "execute_result"
    }
   ],
   "source": [
    "dataall.ts.min()"
   ]
  },
  {
   "cell_type": "code",
   "execution_count": 17,
   "metadata": {},
   "outputs": [
    {
     "data": {
      "text/html": [
       "<div>\n",
       "<style scoped>\n",
       "    .dataframe tbody tr th:only-of-type {\n",
       "        vertical-align: middle;\n",
       "    }\n",
       "\n",
       "    .dataframe tbody tr th {\n",
       "        vertical-align: top;\n",
       "    }\n",
       "\n",
       "    .dataframe thead th {\n",
       "        text-align: right;\n",
       "    }\n",
       "</style>\n",
       "<table border=\"1\" class=\"dataframe\">\n",
       "  <thead>\n",
       "    <tr style=\"text-align: right;\">\n",
       "      <th></th>\n",
       "      <th>session</th>\n",
       "      <th>aid</th>\n",
       "      <th>ts</th>\n",
       "      <th>type</th>\n",
       "    </tr>\n",
       "  </thead>\n",
       "  <tbody>\n",
       "    <tr>\n",
       "      <th>0</th>\n",
       "      <td>13399779</td>\n",
       "      <td>110716</td>\n",
       "      <td>1661885147895</td>\n",
       "      <td>clicks</td>\n",
       "    </tr>\n",
       "    <tr>\n",
       "      <th>1</th>\n",
       "      <td>13399779</td>\n",
       "      <td>738837</td>\n",
       "      <td>1661885164597</td>\n",
       "      <td>clicks</td>\n",
       "    </tr>\n",
       "    <tr>\n",
       "      <th>2</th>\n",
       "      <td>13399780</td>\n",
       "      <td>557072</td>\n",
       "      <td>1661885147958</td>\n",
       "      <td>clicks</td>\n",
       "    </tr>\n",
       "    <tr>\n",
       "      <th>3</th>\n",
       "      <td>13399780</td>\n",
       "      <td>770350</td>\n",
       "      <td>1661885172583</td>\n",
       "      <td>clicks</td>\n",
       "    </tr>\n",
       "    <tr>\n",
       "      <th>4</th>\n",
       "      <td>13399781</td>\n",
       "      <td>1062698</td>\n",
       "      <td>1661885147979</td>\n",
       "      <td>clicks</td>\n",
       "    </tr>\n",
       "    <tr>\n",
       "      <th>...</th>\n",
       "      <td>...</td>\n",
       "      <td>...</td>\n",
       "      <td>...</td>\n",
       "      <td>...</td>\n",
       "    </tr>\n",
       "    <tr>\n",
       "      <th>6928118</th>\n",
       "      <td>13599775</td>\n",
       "      <td>232605</td>\n",
       "      <td>1661959824002</td>\n",
       "      <td>clicks</td>\n",
       "    </tr>\n",
       "    <tr>\n",
       "      <th>6928119</th>\n",
       "      <td>13599776</td>\n",
       "      <td>812507</td>\n",
       "      <td>1661958067254</td>\n",
       "      <td>clicks</td>\n",
       "    </tr>\n",
       "    <tr>\n",
       "      <th>6928120</th>\n",
       "      <td>13599776</td>\n",
       "      <td>587309</td>\n",
       "      <td>1661958145310</td>\n",
       "      <td>clicks</td>\n",
       "    </tr>\n",
       "    <tr>\n",
       "      <th>6928121</th>\n",
       "      <td>13599777</td>\n",
       "      <td>1583223</td>\n",
       "      <td>1661958067311</td>\n",
       "      <td>clicks</td>\n",
       "    </tr>\n",
       "    <tr>\n",
       "      <th>6928122</th>\n",
       "      <td>13599778</td>\n",
       "      <td>887053</td>\n",
       "      <td>1661958067458</td>\n",
       "      <td>clicks</td>\n",
       "    </tr>\n",
       "  </tbody>\n",
       "</table>\n",
       "<p>6928123 rows × 4 columns</p>\n",
       "</div>"
      ],
      "text/plain": [
       "          session      aid             ts    type\n",
       "0        13399779   110716  1661885147895  clicks\n",
       "1        13399779   738837  1661885164597  clicks\n",
       "2        13399780   557072  1661885147958  clicks\n",
       "3        13399780   770350  1661885172583  clicks\n",
       "4        13399781  1062698  1661885147979  clicks\n",
       "...           ...      ...            ...     ...\n",
       "6928118  13599775   232605  1661959824002  clicks\n",
       "6928119  13599776   812507  1661958067254  clicks\n",
       "6928120  13599776   587309  1661958145310  clicks\n",
       "6928121  13599777  1583223  1661958067311  clicks\n",
       "6928122  13599778   887053  1661958067458  clicks\n",
       "\n",
       "[6928123 rows x 4 columns]"
      ]
     },
     "execution_count": 17,
     "metadata": {},
     "output_type": "execute_result"
    }
   ],
   "source": [
    "dataall"
   ]
  },
  {
   "cell_type": "code",
   "execution_count": 19,
   "metadata": {},
   "outputs": [],
   "source": [
    "type_weight_multipliers = {'clicks': 1, 'carts': 6, 'orders': 3}\n"
   ]
  },
  {
   "cell_type": "code",
   "execution_count": 20,
   "metadata": {},
   "outputs": [],
   "source": [
    "dataall0 = dataall.copy()\n",
    "dataall0['type'] = dataall0['type'].apply(lambda x:type_weight_multipliers[x])\n",
    "user_features0 = dataall0.groupby('session').agg({'session':'count','aid':'nunique','type':'mean'})\n",
    "user_features0.columns = ['user_count','user_item_count','user_buy_ratio']\n",
    "\n",
    "user_features1 = dataall[dataall.type=='clicks'].groupby('session').agg({'session':'count','aid':'nunique'})\n",
    "user_features1.columns = ['user_clicks_count','user_clicks_item_count']\n",
    "\n",
    "user_features2 = dataall[dataall.type=='carts'].groupby('session').agg({'session':'count','aid':'nunique'})\n",
    "user_features2.columns = ['user_carts_count','user_carts_item_count']\n",
    "\n",
    "user_features3 = dataall[dataall.type=='orders'].groupby('session').agg({'session':'count','aid':'nunique'})\n",
    "user_features3.columns = ['user_orders_count','user_orders_item_count']\n",
    "\n",
    "user_features = pd.concat([user_features0,user_features1,user_features2,user_features3],axis=1)\n"
   ]
  },
  {
   "cell_type": "code",
   "execution_count": 21,
   "metadata": {},
   "outputs": [],
   "source": [
    "user_features.to_parquet('user_features_test.pqt')"
   ]
  },
  {
   "cell_type": "code",
   "execution_count": 22,
   "metadata": {},
   "outputs": [
    {
     "data": {
      "text/plain": [
       "(223644219, 5)"
      ]
     },
     "execution_count": 22,
     "metadata": {},
     "output_type": "execute_result"
    }
   ],
   "source": [
    "dataall0 = pd.concat([dataall,traindataall])\n",
    "dataall0['type_number'] = dataall0['type'].apply(lambda x:type_weight_multipliers[x])\n",
    "dataall0.shape"
   ]
  },
  {
   "cell_type": "code",
   "execution_count": 23,
   "metadata": {},
   "outputs": [
    {
     "data": {
      "text/html": [
       "<div>\n",
       "<style scoped>\n",
       "    .dataframe tbody tr th:only-of-type {\n",
       "        vertical-align: middle;\n",
       "    }\n",
       "\n",
       "    .dataframe tbody tr th {\n",
       "        vertical-align: top;\n",
       "    }\n",
       "\n",
       "    .dataframe thead th {\n",
       "        text-align: right;\n",
       "    }\n",
       "</style>\n",
       "<table border=\"1\" class=\"dataframe\">\n",
       "  <thead>\n",
       "    <tr style=\"text-align: right;\">\n",
       "      <th></th>\n",
       "      <th>item_count</th>\n",
       "      <th>item_user_count</th>\n",
       "      <th>item_buy_ratio</th>\n",
       "    </tr>\n",
       "    <tr>\n",
       "      <th>aid</th>\n",
       "      <th></th>\n",
       "      <th></th>\n",
       "      <th></th>\n",
       "    </tr>\n",
       "  </thead>\n",
       "  <tbody>\n",
       "    <tr>\n",
       "      <th>0</th>\n",
       "      <td>48</td>\n",
       "      <td>40</td>\n",
       "      <td>1.000000</td>\n",
       "    </tr>\n",
       "    <tr>\n",
       "      <th>1</th>\n",
       "      <td>34</td>\n",
       "      <td>30</td>\n",
       "      <td>1.147059</td>\n",
       "    </tr>\n",
       "    <tr>\n",
       "      <th>2</th>\n",
       "      <td>17</td>\n",
       "      <td>16</td>\n",
       "      <td>1.000000</td>\n",
       "    </tr>\n",
       "    <tr>\n",
       "      <th>3</th>\n",
       "      <td>2759</td>\n",
       "      <td>1392</td>\n",
       "      <td>1.401232</td>\n",
       "    </tr>\n",
       "    <tr>\n",
       "      <th>4</th>\n",
       "      <td>221</td>\n",
       "      <td>143</td>\n",
       "      <td>1.203620</td>\n",
       "    </tr>\n",
       "    <tr>\n",
       "      <th>...</th>\n",
       "      <td>...</td>\n",
       "      <td>...</td>\n",
       "      <td>...</td>\n",
       "    </tr>\n",
       "    <tr>\n",
       "      <th>1855598</th>\n",
       "      <td>7</td>\n",
       "      <td>7</td>\n",
       "      <td>1.000000</td>\n",
       "    </tr>\n",
       "    <tr>\n",
       "      <th>1855599</th>\n",
       "      <td>14</td>\n",
       "      <td>12</td>\n",
       "      <td>1.000000</td>\n",
       "    </tr>\n",
       "    <tr>\n",
       "      <th>1855600</th>\n",
       "      <td>91</td>\n",
       "      <td>57</td>\n",
       "      <td>1.406593</td>\n",
       "    </tr>\n",
       "    <tr>\n",
       "      <th>1855601</th>\n",
       "      <td>92</td>\n",
       "      <td>62</td>\n",
       "      <td>1.380435</td>\n",
       "    </tr>\n",
       "    <tr>\n",
       "      <th>1855602</th>\n",
       "      <td>19</td>\n",
       "      <td>17</td>\n",
       "      <td>1.000000</td>\n",
       "    </tr>\n",
       "  </tbody>\n",
       "</table>\n",
       "<p>1855603 rows × 3 columns</p>\n",
       "</div>"
      ],
      "text/plain": [
       "         item_count  item_user_count  item_buy_ratio\n",
       "aid                                                 \n",
       "0                48               40        1.000000\n",
       "1                34               30        1.147059\n",
       "2                17               16        1.000000\n",
       "3              2759             1392        1.401232\n",
       "4               221              143        1.203620\n",
       "...             ...              ...             ...\n",
       "1855598           7                7        1.000000\n",
       "1855599          14               12        1.000000\n",
       "1855600          91               57        1.406593\n",
       "1855601          92               62        1.380435\n",
       "1855602          19               17        1.000000\n",
       "\n",
       "[1855603 rows x 3 columns]"
      ]
     },
     "execution_count": 23,
     "metadata": {},
     "output_type": "execute_result"
    }
   ],
   "source": [
    "item_features0 = dataall0.groupby('aid').agg({'aid':'count','session':'nunique','type_number':'mean'})\n",
    "item_features0.columns = ['item_count','item_user_count','item_buy_ratio']\n",
    "item_features0"
   ]
  },
  {
   "cell_type": "code",
   "execution_count": 24,
   "metadata": {},
   "outputs": [],
   "source": [
    "item_features1 = dataall0[dataall0.type=='clicks'].groupby('aid').agg({'aid':'count','session':'nunique'})\n",
    "item_features1.columns = ['item_clicks_count','item_clicks_user_count']\n",
    "\n",
    "item_features2 = dataall0[dataall0.type=='carts'].groupby('aid').agg({'aid':'count','session':'nunique'})\n",
    "item_features2.columns = ['item_carts_count','item_carts_user_count']\n",
    "\n",
    "item_features3 = dataall0[dataall0.type=='orders'].groupby('aid').agg({'aid':'count','session':'nunique'})\n",
    "item_features3.columns = ['item_orders_count','item_orders_user_count']\n"
   ]
  },
  {
   "cell_type": "code",
   "execution_count": 25,
   "metadata": {},
   "outputs": [
    {
     "data": {
      "text/html": [
       "<div>\n",
       "<style scoped>\n",
       "    .dataframe tbody tr th:only-of-type {\n",
       "        vertical-align: middle;\n",
       "    }\n",
       "\n",
       "    .dataframe tbody tr th {\n",
       "        vertical-align: top;\n",
       "    }\n",
       "\n",
       "    .dataframe thead th {\n",
       "        text-align: right;\n",
       "    }\n",
       "</style>\n",
       "<table border=\"1\" class=\"dataframe\">\n",
       "  <thead>\n",
       "    <tr style=\"text-align: right;\">\n",
       "      <th></th>\n",
       "      <th>item_count</th>\n",
       "      <th>item_user_count</th>\n",
       "      <th>item_buy_ratio</th>\n",
       "      <th>item_clicks_count</th>\n",
       "      <th>item_clicks_user_count</th>\n",
       "      <th>item_carts_count</th>\n",
       "      <th>item_carts_user_count</th>\n",
       "      <th>item_orders_count</th>\n",
       "      <th>item_orders_user_count</th>\n",
       "    </tr>\n",
       "    <tr>\n",
       "      <th>aid</th>\n",
       "      <th></th>\n",
       "      <th></th>\n",
       "      <th></th>\n",
       "      <th></th>\n",
       "      <th></th>\n",
       "      <th></th>\n",
       "      <th></th>\n",
       "      <th></th>\n",
       "      <th></th>\n",
       "    </tr>\n",
       "  </thead>\n",
       "  <tbody>\n",
       "    <tr>\n",
       "      <th>0</th>\n",
       "      <td>48</td>\n",
       "      <td>40</td>\n",
       "      <td>1.000000</td>\n",
       "      <td>48</td>\n",
       "      <td>40</td>\n",
       "      <td>NaN</td>\n",
       "      <td>NaN</td>\n",
       "      <td>NaN</td>\n",
       "      <td>NaN</td>\n",
       "    </tr>\n",
       "    <tr>\n",
       "      <th>1</th>\n",
       "      <td>34</td>\n",
       "      <td>30</td>\n",
       "      <td>1.147059</td>\n",
       "      <td>33</td>\n",
       "      <td>29</td>\n",
       "      <td>1.0</td>\n",
       "      <td>1.0</td>\n",
       "      <td>NaN</td>\n",
       "      <td>NaN</td>\n",
       "    </tr>\n",
       "    <tr>\n",
       "      <th>2</th>\n",
       "      <td>17</td>\n",
       "      <td>16</td>\n",
       "      <td>1.000000</td>\n",
       "      <td>17</td>\n",
       "      <td>16</td>\n",
       "      <td>NaN</td>\n",
       "      <td>NaN</td>\n",
       "      <td>NaN</td>\n",
       "      <td>NaN</td>\n",
       "    </tr>\n",
       "    <tr>\n",
       "      <th>3</th>\n",
       "      <td>2759</td>\n",
       "      <td>1392</td>\n",
       "      <td>1.401232</td>\n",
       "      <td>2513</td>\n",
       "      <td>1392</td>\n",
       "      <td>205.0</td>\n",
       "      <td>173.0</td>\n",
       "      <td>41.0</td>\n",
       "      <td>36.0</td>\n",
       "    </tr>\n",
       "    <tr>\n",
       "      <th>4</th>\n",
       "      <td>221</td>\n",
       "      <td>143</td>\n",
       "      <td>1.203620</td>\n",
       "      <td>212</td>\n",
       "      <td>143</td>\n",
       "      <td>9.0</td>\n",
       "      <td>9.0</td>\n",
       "      <td>NaN</td>\n",
       "      <td>NaN</td>\n",
       "    </tr>\n",
       "    <tr>\n",
       "      <th>...</th>\n",
       "      <td>...</td>\n",
       "      <td>...</td>\n",
       "      <td>...</td>\n",
       "      <td>...</td>\n",
       "      <td>...</td>\n",
       "      <td>...</td>\n",
       "      <td>...</td>\n",
       "      <td>...</td>\n",
       "      <td>...</td>\n",
       "    </tr>\n",
       "    <tr>\n",
       "      <th>1855598</th>\n",
       "      <td>7</td>\n",
       "      <td>7</td>\n",
       "      <td>1.000000</td>\n",
       "      <td>7</td>\n",
       "      <td>7</td>\n",
       "      <td>NaN</td>\n",
       "      <td>NaN</td>\n",
       "      <td>NaN</td>\n",
       "      <td>NaN</td>\n",
       "    </tr>\n",
       "    <tr>\n",
       "      <th>1855599</th>\n",
       "      <td>14</td>\n",
       "      <td>12</td>\n",
       "      <td>1.000000</td>\n",
       "      <td>14</td>\n",
       "      <td>12</td>\n",
       "      <td>NaN</td>\n",
       "      <td>NaN</td>\n",
       "      <td>NaN</td>\n",
       "      <td>NaN</td>\n",
       "    </tr>\n",
       "    <tr>\n",
       "      <th>1855600</th>\n",
       "      <td>91</td>\n",
       "      <td>57</td>\n",
       "      <td>1.406593</td>\n",
       "      <td>83</td>\n",
       "      <td>57</td>\n",
       "      <td>7.0</td>\n",
       "      <td>7.0</td>\n",
       "      <td>1.0</td>\n",
       "      <td>1.0</td>\n",
       "    </tr>\n",
       "    <tr>\n",
       "      <th>1855601</th>\n",
       "      <td>92</td>\n",
       "      <td>62</td>\n",
       "      <td>1.380435</td>\n",
       "      <td>85</td>\n",
       "      <td>60</td>\n",
       "      <td>7.0</td>\n",
       "      <td>7.0</td>\n",
       "      <td>NaN</td>\n",
       "      <td>NaN</td>\n",
       "    </tr>\n",
       "    <tr>\n",
       "      <th>1855602</th>\n",
       "      <td>19</td>\n",
       "      <td>17</td>\n",
       "      <td>1.000000</td>\n",
       "      <td>19</td>\n",
       "      <td>17</td>\n",
       "      <td>NaN</td>\n",
       "      <td>NaN</td>\n",
       "      <td>NaN</td>\n",
       "      <td>NaN</td>\n",
       "    </tr>\n",
       "  </tbody>\n",
       "</table>\n",
       "<p>1855603 rows × 9 columns</p>\n",
       "</div>"
      ],
      "text/plain": [
       "         item_count  item_user_count  item_buy_ratio  item_clicks_count  \\\n",
       "aid                                                                       \n",
       "0                48               40        1.000000                 48   \n",
       "1                34               30        1.147059                 33   \n",
       "2                17               16        1.000000                 17   \n",
       "3              2759             1392        1.401232               2513   \n",
       "4               221              143        1.203620                212   \n",
       "...             ...              ...             ...                ...   \n",
       "1855598           7                7        1.000000                  7   \n",
       "1855599          14               12        1.000000                 14   \n",
       "1855600          91               57        1.406593                 83   \n",
       "1855601          92               62        1.380435                 85   \n",
       "1855602          19               17        1.000000                 19   \n",
       "\n",
       "         item_clicks_user_count  item_carts_count  item_carts_user_count  \\\n",
       "aid                                                                        \n",
       "0                            40               NaN                    NaN   \n",
       "1                            29               1.0                    1.0   \n",
       "2                            16               NaN                    NaN   \n",
       "3                          1392             205.0                  173.0   \n",
       "4                           143               9.0                    9.0   \n",
       "...                         ...               ...                    ...   \n",
       "1855598                       7               NaN                    NaN   \n",
       "1855599                      12               NaN                    NaN   \n",
       "1855600                      57               7.0                    7.0   \n",
       "1855601                      60               7.0                    7.0   \n",
       "1855602                      17               NaN                    NaN   \n",
       "\n",
       "         item_orders_count  item_orders_user_count  \n",
       "aid                                                 \n",
       "0                      NaN                     NaN  \n",
       "1                      NaN                     NaN  \n",
       "2                      NaN                     NaN  \n",
       "3                     41.0                    36.0  \n",
       "4                      NaN                     NaN  \n",
       "...                    ...                     ...  \n",
       "1855598                NaN                     NaN  \n",
       "1855599                NaN                     NaN  \n",
       "1855600                1.0                     1.0  \n",
       "1855601                NaN                     NaN  \n",
       "1855602                NaN                     NaN  \n",
       "\n",
       "[1855603 rows x 9 columns]"
      ]
     },
     "execution_count": 25,
     "metadata": {},
     "output_type": "execute_result"
    }
   ],
   "source": [
    "item_features = pd.concat([item_features0,item_features1,item_features2,item_features3],axis=1)\n",
    "item_features"
   ]
  },
  {
   "cell_type": "code",
   "execution_count": 26,
   "metadata": {},
   "outputs": [],
   "source": [
    "item_features.to_parquet('item_features_test.pqt')"
   ]
  },
  {
   "cell_type": "code",
   "execution_count": 27,
   "metadata": {},
   "outputs": [
    {
     "data": {
      "text/html": [
       "<div>\n",
       "<style scoped>\n",
       "    .dataframe tbody tr th:only-of-type {\n",
       "        vertical-align: middle;\n",
       "    }\n",
       "\n",
       "    .dataframe tbody tr th {\n",
       "        vertical-align: top;\n",
       "    }\n",
       "\n",
       "    .dataframe thead th {\n",
       "        text-align: right;\n",
       "    }\n",
       "</style>\n",
       "<table border=\"1\" class=\"dataframe\">\n",
       "  <thead>\n",
       "    <tr style=\"text-align: right;\">\n",
       "      <th></th>\n",
       "      <th>session</th>\n",
       "      <th>aid</th>\n",
       "      <th>ts</th>\n",
       "      <th>type</th>\n",
       "    </tr>\n",
       "  </thead>\n",
       "  <tbody>\n",
       "    <tr>\n",
       "      <th>0</th>\n",
       "      <td>13399779</td>\n",
       "      <td>110716</td>\n",
       "      <td>1661885147895</td>\n",
       "      <td>1</td>\n",
       "    </tr>\n",
       "    <tr>\n",
       "      <th>1</th>\n",
       "      <td>13399779</td>\n",
       "      <td>738837</td>\n",
       "      <td>1661885164597</td>\n",
       "      <td>1</td>\n",
       "    </tr>\n",
       "    <tr>\n",
       "      <th>2</th>\n",
       "      <td>13399780</td>\n",
       "      <td>557072</td>\n",
       "      <td>1661885147958</td>\n",
       "      <td>1</td>\n",
       "    </tr>\n",
       "    <tr>\n",
       "      <th>3</th>\n",
       "      <td>13399780</td>\n",
       "      <td>770350</td>\n",
       "      <td>1661885172583</td>\n",
       "      <td>1</td>\n",
       "    </tr>\n",
       "    <tr>\n",
       "      <th>4</th>\n",
       "      <td>13399781</td>\n",
       "      <td>1062698</td>\n",
       "      <td>1661885147979</td>\n",
       "      <td>1</td>\n",
       "    </tr>\n",
       "    <tr>\n",
       "      <th>...</th>\n",
       "      <td>...</td>\n",
       "      <td>...</td>\n",
       "      <td>...</td>\n",
       "      <td>...</td>\n",
       "    </tr>\n",
       "    <tr>\n",
       "      <th>6928118</th>\n",
       "      <td>13599775</td>\n",
       "      <td>232605</td>\n",
       "      <td>1661959824002</td>\n",
       "      <td>1</td>\n",
       "    </tr>\n",
       "    <tr>\n",
       "      <th>6928119</th>\n",
       "      <td>13599776</td>\n",
       "      <td>812507</td>\n",
       "      <td>1661958067254</td>\n",
       "      <td>1</td>\n",
       "    </tr>\n",
       "    <tr>\n",
       "      <th>6928120</th>\n",
       "      <td>13599776</td>\n",
       "      <td>587309</td>\n",
       "      <td>1661958145310</td>\n",
       "      <td>1</td>\n",
       "    </tr>\n",
       "    <tr>\n",
       "      <th>6928121</th>\n",
       "      <td>13599777</td>\n",
       "      <td>1583223</td>\n",
       "      <td>1661958067311</td>\n",
       "      <td>1</td>\n",
       "    </tr>\n",
       "    <tr>\n",
       "      <th>6928122</th>\n",
       "      <td>13599778</td>\n",
       "      <td>887053</td>\n",
       "      <td>1661958067458</td>\n",
       "      <td>1</td>\n",
       "    </tr>\n",
       "  </tbody>\n",
       "</table>\n",
       "<p>6928123 rows × 4 columns</p>\n",
       "</div>"
      ],
      "text/plain": [
       "          session      aid             ts  type\n",
       "0        13399779   110716  1661885147895     1\n",
       "1        13399779   738837  1661885164597     1\n",
       "2        13399780   557072  1661885147958     1\n",
       "3        13399780   770350  1661885172583     1\n",
       "4        13399781  1062698  1661885147979     1\n",
       "...           ...      ...            ...   ...\n",
       "6928118  13599775   232605  1661959824002     1\n",
       "6928119  13599776   812507  1661958067254     1\n",
       "6928120  13599776   587309  1661958145310     1\n",
       "6928121  13599777  1583223  1661958067311     1\n",
       "6928122  13599778   887053  1661958067458     1\n",
       "\n",
       "[6928123 rows x 4 columns]"
      ]
     },
     "execution_count": 27,
     "metadata": {},
     "output_type": "execute_result"
    }
   ],
   "source": [
    "dataall0 = dataall.copy()\n",
    "dataall0['type'] = dataall0['type'].apply(lambda x:type_weight_multipliers[x])\n",
    "dataall0"
   ]
  },
  {
   "cell_type": "code",
   "execution_count": 28,
   "metadata": {},
   "outputs": [],
   "source": [
    "user_item_features0 = dataall0.groupby(['session','aid']).agg({'type':'count'})\n",
    "# user_item_features0 = user_item_features0.reset_index()\n",
    "user_item_features0.columns = ['user_item_int_count']\n",
    "\n",
    "user_item_features1 = dataall[dataall.type=='clicks'].groupby(['session','aid']).agg({'type':'count'})\n",
    "# user_item_features1 = user_item_features1.reset_index()\n",
    "user_item_features1.columns = ['user_item_int_clicks_count']\n",
    "\n",
    "user_item_features2 = dataall[dataall.type=='carts'].groupby(['session','aid']).agg({'type':'count'})\n",
    "# user_item_features2 = user_item_features2.reset_index()\n",
    "user_item_features2.columns = ['user_item_int_carts_count']\n",
    "\n",
    "user_item_features3 = dataall[dataall.type=='orders'].groupby(['session','aid']).agg({'type':'count'})\n",
    "# user_item_features3 = user_item_features3.reset_index()\n",
    "user_item_features3.columns = ['user_item_int_orders_count']\n",
    "\n",
    "user_item_features = pd.concat([user_item_features0,user_item_features1,user_item_features2,user_item_features3],axis=1)\n"
   ]
  },
  {
   "cell_type": "code",
   "execution_count": 29,
   "metadata": {},
   "outputs": [],
   "source": [
    "user_item_features.to_parquet('user_item_features_test.pqt')"
   ]
  },
  {
   "cell_type": "code",
   "execution_count": null,
   "metadata": {},
   "outputs": [],
   "source": []
  },
  {
   "cell_type": "code",
   "execution_count": 9,
   "metadata": {},
   "outputs": [],
   "source": [
    "import pickle\n",
    "import gensim\n",
    "ff = open('../w2vmodel/w2vec.pkl','rb')\n",
    "w2vec = pickle.load(ff)\n",
    "ff.close()"
   ]
  },
  {
   "cell_type": "code",
   "execution_count": 10,
   "metadata": {},
   "outputs": [],
   "source": [
    "userall = dataall.groupby(['session','type'])['aid'].apply(list)\n",
    "userall = userall.reset_index()"
   ]
  },
  {
   "cell_type": "code",
   "execution_count": 8,
   "metadata": {},
   "outputs": [
    {
     "name": "stderr",
     "output_type": "stream",
     "text": [
      "100%|██████████| 1670191/1670191 [03:08<00:00, 8852.57it/s] \n"
     ]
    }
   ],
   "source": [
    "import numpy as np\n",
    "from tqdm import tqdm\n",
    "ww1 = {}\n",
    "userall1 = userall[userall.type=='clicks'].reset_index(drop=True)\n",
    "for ii in tqdm(range(len(userall1))):\n",
    "    sss = [w2vec.wv[xx] for xx in userall1.loc[ii,'aid']]\n",
    "    ww1[userall1.loc[ii,'session']] =np.mean(sss,axis=0)"
   ]
  },
  {
   "cell_type": "code",
   "execution_count": 9,
   "metadata": {},
   "outputs": [
    {
     "name": "stderr",
     "output_type": "stream",
     "text": [
      "100%|██████████| 242833/242833 [00:16<00:00, 14660.97it/s]\n"
     ]
    }
   ],
   "source": [
    "ww2 = {}\n",
    "userall2 = userall[userall.type=='carts'].reset_index(drop=True)\n",
    "for ii in tqdm(range(len(userall2))):\n",
    "    sss = [w2vec.wv[xx] for xx in userall2.loc[ii,'aid']]\n",
    "    ww2[userall2.loc[ii,'session']] =np.mean(sss,axis=0)"
   ]
  },
  {
   "cell_type": "code",
   "execution_count": 10,
   "metadata": {},
   "outputs": [
    {
     "name": "stderr",
     "output_type": "stream",
     "text": [
      "100%|██████████| 35849/35849 [00:02<00:00, 17702.92it/s]\n"
     ]
    }
   ],
   "source": [
    "ww3 = {}\n",
    "userall3 = userall[userall.type=='orders'].reset_index(drop=True)\n",
    "for ii in tqdm(range(len(userall3))):\n",
    "    sss = [w2vec.wv[xx] for xx in userall3.loc[ii,'aid']]\n",
    "    ww3[userall3.loc[ii,'session']] =np.mean(sss,axis=0)"
   ]
  },
  {
   "cell_type": "code",
   "execution_count": null,
   "metadata": {},
   "outputs": [],
   "source": [
    "import pickle\n",
    "ff = open(f'ww1clicks_test.pkl','wb')\n",
    "pickle.dump(ww1,ff)\n",
    "ff.close()\n",
    "\n",
    "ff = open(f'ww2carts_test.pkl','wb')\n",
    "pickle.dump(ww2,ff)\n",
    "ff.close()\n",
    "\n",
    "ff = open(f'ww3orders_test.pkl','wb')\n",
    "pickle.dump(ww3,ff)\n",
    "ff.close()"
   ]
  },
  {
   "cell_type": "code",
   "execution_count": 11,
   "metadata": {},
   "outputs": [
    {
     "name": "stderr",
     "output_type": "stream",
     "text": [
      "100%|██████████| 1670191/1670191 [02:11<00:00, 12737.82it/s]\n",
      "100%|██████████| 242833/242833 [00:14<00:00, 17337.74it/s]\n",
      "100%|██████████| 35849/35849 [00:02<00:00, 17214.50it/s]\n"
     ]
    }
   ],
   "source": [
    "import numpy as np\n",
    "from tqdm import tqdm\n",
    "ww1 = {}\n",
    "userall1 = userall[userall.type=='clicks'].reset_index(drop=True)\n",
    "for ii in tqdm(range(len(userall1))):\n",
    "    sss = [w2vec.wv[xx] for xx in userall1.loc[ii,'aid'][-1:]]\n",
    "    ww1[userall1.loc[ii,'session']] =np.mean(sss,axis=0)\n",
    "    \n",
    "ww2 = {}\n",
    "userall2 = userall[userall.type=='carts'].reset_index(drop=True)\n",
    "for ii in tqdm(range(len(userall2))):\n",
    "    sss = [w2vec.wv[xx] for xx in userall2.loc[ii,'aid'][-1:]]\n",
    "    ww2[userall2.loc[ii,'session']] =np.mean(sss,axis=0)\n",
    "    \n",
    "ww3 = {}\n",
    "userall3 = userall[userall.type=='orders'].reset_index(drop=True)\n",
    "for ii in tqdm(range(len(userall3))):\n",
    "    sss = [w2vec.wv[xx] for xx in userall3.loc[ii,'aid'][-1:]]\n",
    "    ww3[userall3.loc[ii,'session']] =np.mean(sss,axis=0)\n",
    "    \n",
    "import pickle\n",
    "ff = open(f'ww1clicks_last1_test.pkl','wb')\n",
    "pickle.dump(ww1,ff)\n",
    "ff.close()\n",
    "\n",
    "ff = open(f'ww2carts_last1_test.pkl','wb')\n",
    "pickle.dump(ww2,ff)\n",
    "ff.close()\n",
    "\n",
    "\n",
    "ff = open(f'ww3orders_last1_test.pkl','wb')\n",
    "pickle.dump(ww3,ff)\n",
    "ff.close()"
   ]
  },
  {
   "cell_type": "code",
   "execution_count": 12,
   "metadata": {},
   "outputs": [
    {
     "name": "stderr",
     "output_type": "stream",
     "text": [
      "100%|██████████| 1670191/1670191 [02:13<00:00, 12548.33it/s]\n"
     ]
    }
   ],
   "source": [
    "import numpy as np\n",
    "from tqdm import tqdm\n",
    "ww1 = {}\n",
    "userall1 = userall[userall.type=='clicks'].reset_index(drop=True)\n",
    "for ii in tqdm(range(len(userall1))):\n",
    "    sss = [w2vec.wv[xx] for xx in userall1.loc[ii,'aid'][-2:]]\n",
    "    ww1[userall1.loc[ii,'session']] =np.mean(sss,axis=0)\n",
    "    \n",
    "    \n",
    "import pickle\n",
    "ff = open(f'ww1clicks_last2_test.pkl','wb')\n",
    "pickle.dump(ww1,ff)\n",
    "ff.close()"
   ]
  },
  {
   "cell_type": "code",
   "execution_count": 13,
   "metadata": {},
   "outputs": [
    {
     "name": "stderr",
     "output_type": "stream",
     "text": [
      "100%|██████████| 1670191/1670191 [02:14<00:00, 12445.10it/s]\n"
     ]
    }
   ],
   "source": [
    "import numpy as np\n",
    "from tqdm import tqdm\n",
    "ww1 = {}\n",
    "userall1 = userall[userall.type=='clicks'].reset_index(drop=True)\n",
    "for ii in tqdm(range(len(userall1))):\n",
    "    sss = [w2vec.wv[xx] for xx in userall1.loc[ii,'aid'][-3:]]\n",
    "    ww1[userall1.loc[ii,'session']] =np.mean(sss,axis=0)\n",
    "    \n",
    "    \n",
    "import pickle\n",
    "ff = open(f'ww1clicks_last3_test.pkl','wb')\n",
    "pickle.dump(ww1,ff)\n",
    "ff.close()"
   ]
  },
  {
   "cell_type": "code",
   "execution_count": 14,
   "metadata": {},
   "outputs": [
    {
     "name": "stderr",
     "output_type": "stream",
     "text": [
      "100%|██████████| 1670191/1670191 [02:14<00:00, 12382.76it/s]\n"
     ]
    }
   ],
   "source": [
    "ww1 = {}\n",
    "userall1 = userall[userall.type=='clicks'].reset_index(drop=True)\n",
    "for ii in tqdm(range(len(userall1))):\n",
    "    sss = [w2vec.wv[xx] for xx in userall1.loc[ii,'aid'][-5:]]\n",
    "    ww1[userall1.loc[ii,'session']] =np.mean(sss,axis=0)\n",
    "    \n",
    "    \n",
    "import pickle\n",
    "ff = open(f'ww1clicks_last5_test.pkl','wb')\n",
    "pickle.dump(ww1,ff)\n",
    "ff.close()"
   ]
  },
  {
   "cell_type": "code",
   "execution_count": 15,
   "metadata": {},
   "outputs": [
    {
     "name": "stderr",
     "output_type": "stream",
     "text": [
      "100%|██████████| 1670191/1670191 [02:17<00:00, 12178.22it/s]\n"
     ]
    }
   ],
   "source": [
    "ww1 = {}\n",
    "userall1 = userall[userall.type=='clicks'].reset_index(drop=True)\n",
    "for ii in tqdm(range(len(userall1))):\n",
    "    sss = [w2vec.wv[xx] for xx in userall1.loc[ii,'aid'][-10:]]\n",
    "    ww1[userall1.loc[ii,'session']] =np.mean(sss,axis=0)\n",
    "    \n",
    "    \n",
    "import pickle\n",
    "ff = open(f'ww1clicks_last10_test.pkl','wb')\n",
    "pickle.dump(ww1,ff)\n",
    "ff.close()"
   ]
  },
  {
   "cell_type": "code",
   "execution_count": null,
   "metadata": {},
   "outputs": [],
   "source": []
  }
 ],
 "metadata": {
  "kernelspec": {
   "display_name": "Python 3",
   "language": "python",
   "name": "python3"
  },
  "language_info": {
   "codemirror_mode": {
    "name": "ipython",
    "version": 3
   },
   "file_extension": ".py",
   "mimetype": "text/x-python",
   "name": "python",
   "nbconvert_exporter": "python",
   "pygments_lexer": "ipython3",
   "version": "3.6.8"
  }
 },
 "nbformat": 4,
 "nbformat_minor": 4
}
