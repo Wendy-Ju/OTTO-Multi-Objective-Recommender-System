{
 "cells": [
  {
   "cell_type": "markdown",
   "metadata": {
    "papermill": {
     "duration": 0.004906,
     "end_time": "2023-01-15T13:03:59.607798",
     "exception": false,
     "start_time": "2023-01-15T13:03:59.602892",
     "status": "completed"
    },
    "tags": []
   },
   "source": [
    "In this notebook we will train a <code>Word2Vec</code> model, aproximated nearest neighbour model and test it on local validation set.\n",
    "\n",
    "We will use the <code>gensim</code> library for <code>Word2Vec</code>, aproximated nearest neighbour model form <code>annoy</code>.\n",
    "\n",
    "For this purpose, I used the [dataset](https://www.kaggle.com/datasets/radek1/otto-full-optimized-memory-footprint) provided by Radek Osmulski. The prepared sets allow you to test the developed recommendation system. The developed code in this notebook is based on the example prepared by Radek (see [nootebook](https://www.kaggle.com/code/radek1/word2vec-how-to-training-and-submission)). To improve the result obtained by the model, we introduce some modifications. For tips related to these parameters please see [notebook](https://www.kaggle.com/code/balaganiarz0/word2vec-model-local-validation)."
   ]
  },
  {
   "cell_type": "markdown",
   "metadata": {
    "papermill": {
     "duration": 0.003337,
     "end_time": "2023-01-15T13:03:59.614945",
     "exception": false,
     "start_time": "2023-01-15T13:03:59.611608",
     "status": "completed"
    },
    "tags": []
   },
   "source": [
    "# Data preprocessing"
   ]
  },
  {
   "cell_type": "code",
   "execution_count": 1,
   "metadata": {
    "_cell_guid": "b1076dfc-b9ad-4769-8c92-a6c4dae69d19",
    "_uuid": "8f2839f25d086af736a60e9eeb907d3b93b6e0e5",
    "execution": {
     "iopub.execute_input": "2023-01-15T13:03:59.625124Z",
     "iopub.status.busy": "2023-01-15T13:03:59.624132Z",
     "iopub.status.idle": "2023-01-15T13:04:28.208832Z",
     "shell.execute_reply": "2023-01-15T13:04:28.207712Z"
    },
    "papermill": {
     "duration": 28.593636,
     "end_time": "2023-01-15T13:04:28.212135",
     "exception": false,
     "start_time": "2023-01-15T13:03:59.618499",
     "status": "completed"
    },
    "tags": []
   },
   "outputs": [
    {
     "name": "stdout",
     "output_type": "stream",
     "text": [
      "Collecting polars\r\n",
      "  Downloading polars-0.15.15-cp37-abi3-manylinux_2_17_x86_64.manylinux2014_x86_64.whl (15.0 MB)\r\n",
      "\u001b[2K     \u001b[90m━━━━━━━━━━━━━━━━━━━━━━━━━━━━━━━━━━━━━━━━\u001b[0m \u001b[32m15.0/15.0 MB\u001b[0m \u001b[31m34.4 MB/s\u001b[0m eta \u001b[36m0:00:00\u001b[0m\r\n",
      "\u001b[?25hRequirement already satisfied: typing_extensions>=4.0.0 in /opt/conda/lib/python3.7/site-packages (from polars) (4.1.1)\r\n",
      "Installing collected packages: polars\r\n",
      "Successfully installed polars-0.15.15\r\n",
      "\u001b[33mWARNING: Running pip as the 'root' user can result in broken permissions and conflicting behaviour with the system package manager. It is recommended to use a virtual environment instead: https://pip.pypa.io/warnings/venv\u001b[0m\u001b[33m\r\n",
      "\u001b[0m"
     ]
    }
   ],
   "source": [
    "!pip install polars\n",
    "import gc\n",
    "import polars as pl\n",
    "from gensim.test.utils import common_texts\n",
    "from gensim.models import Word2Vec\n",
    "\n",
    "train = pl.read_parquet('../input/otto-full-optimized-memory-footprint/train.parquet')\n",
    "test = pl.read_parquet('../input/otto-full-optimized-memory-footprint/test.parquet')"
   ]
  },
  {
   "cell_type": "code",
   "execution_count": 2,
   "metadata": {
    "execution": {
     "iopub.execute_input": "2023-01-15T13:04:28.224172Z",
     "iopub.status.busy": "2023-01-15T13:04:28.223729Z",
     "iopub.status.idle": "2023-01-15T13:05:24.486274Z",
     "shell.execute_reply": "2023-01-15T13:05:24.485096Z"
    },
    "papermill": {
     "duration": 56.2759,
     "end_time": "2023-01-15T13:05:24.493379",
     "exception": false,
     "start_time": "2023-01-15T13:04:28.217479",
     "status": "completed"
    },
    "tags": []
   },
   "outputs": [
    {
     "data": {
      "text/plain": [
       "0"
      ]
     },
     "execution_count": 2,
     "metadata": {},
     "output_type": "execute_result"
    }
   ],
   "source": [
    "sentences_df =  pl.concat([train, test]).groupby('session').agg(\n",
    "    pl.col('aid').alias('sentence')\n",
    ")\n",
    "\n",
    "sentences = sentences_df['sentence'].to_list()\n",
    "del sentences_df; gc.collect() "
   ]
  },
  {
   "cell_type": "markdown",
   "metadata": {
    "papermill": {
     "duration": 0.004936,
     "end_time": "2023-01-15T13:05:24.503466",
     "exception": false,
     "start_time": "2023-01-15T13:05:24.498530",
     "status": "completed"
    },
    "tags": []
   },
   "source": [
    "# Training word2vec model"
   ]
  },
  {
   "cell_type": "code",
   "execution_count": 3,
   "metadata": {
    "execution": {
     "iopub.execute_input": "2023-01-15T13:05:24.516011Z",
     "iopub.status.busy": "2023-01-15T13:05:24.515053Z",
     "iopub.status.idle": "2023-01-15T14:40:43.350564Z",
     "shell.execute_reply": "2023-01-15T14:40:43.349449Z"
    },
    "papermill": {
     "duration": 5718.848843,
     "end_time": "2023-01-15T14:40:43.357472",
     "exception": false,
     "start_time": "2023-01-15T13:05:24.508629",
     "status": "completed"
    },
    "tags": []
   },
   "outputs": [
    {
     "name": "stdout",
     "output_type": "stream",
     "text": [
      "CPU times: user 6h 1min 46s, sys: 35.2 s, total: 6h 2min 21s\n",
      "Wall time: 1h 35min 18s\n"
     ]
    }
   ],
   "source": [
    "%%time\n",
    "##模型训练\n",
    "w2vec = Word2Vec(sentences=sentences, vector_size= 64, window = 3, negative = 8, ns_exponent = 0.2, sg = 1, min_count=1, workers=4)"
   ]
  },
  {
   "cell_type": "code",
   "execution_count": 4,
   "metadata": {
    "execution": {
     "iopub.execute_input": "2023-01-15T14:40:43.369569Z",
     "iopub.status.busy": "2023-01-15T14:40:43.369152Z",
     "iopub.status.idle": "2023-01-15T14:40:46.628837Z",
     "shell.execute_reply": "2023-01-15T14:40:46.627582Z"
    },
    "papermill": {
     "duration": 3.269389,
     "end_time": "2023-01-15T14:40:46.632017",
     "exception": false,
     "start_time": "2023-01-15T14:40:43.362628",
     "status": "completed"
    },
    "tags": []
   },
   "outputs": [],
   "source": [
    "##模型保存\n",
    "import pickle\n",
    "ff = open('w2vmodel/w2vec.pkl','wb')\n",
    "pickle.dump(w2vec,ff)\n",
    "ff.close()"
   ]
  }
 ],
 "metadata": {
  "kernelspec": {
   "display_name": "Python 3",
   "language": "python",
   "name": "python3"
  },
  "language_info": {
   "codemirror_mode": {
    "name": "ipython",
    "version": 3
   },
   "file_extension": ".py",
   "mimetype": "text/x-python",
   "name": "python",
   "nbconvert_exporter": "python",
   "pygments_lexer": "ipython3",
   "version": "3.6.8"
  },
  "papermill": {
   "default_parameters": {},
   "duration": 6410.872458,
   "end_time": "2023-01-15T14:50:42.025330",
   "environment_variables": {},
   "exception": null,
   "input_path": "__notebook__.ipynb",
   "output_path": "__notebook__.ipynb",
   "parameters": {},
   "start_time": "2023-01-15T13:03:51.152872",
   "version": "2.3.4"
  }
 },
 "nbformat": 4,
 "nbformat_minor": 5
}
